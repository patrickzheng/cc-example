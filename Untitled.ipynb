{
 "cells": [
  {
   "cell_type": "code",
   "execution_count": 56,
   "metadata": {
    "collapsed": false
   },
   "outputs": [
    {
     "name": "stdout",
     "output_type": "stream",
     "text": [
      "#analytics 1\n",
      "#bigdata 3\n",
      "#kdn 1\n",
      "#smb 1\n",
      "@cxotodayalerts 1\n",
      "@lavanyarathnam 1\n",
      "and 1\n",
      "answer 1\n",
      "astrazeneca 1\n",
      "being 1\n",
      "big 2\n",
      "business. 1\n",
      "businesses: 1\n",
      "data 1\n",
      "deployed 1\n",
      "effective 1\n",
      "end 1\n",
      "finally 1\n",
      "for 2\n",
      "healthcare 1\n",
      "how 1\n",
      "http://bddy.me/1bzukb3 1\n",
      "http://ow.ly/o8gt3 1\n",
      "http://ow.ly/ot2uj 1\n",
      "interview: 1\n",
      "is 3\n",
      "just 1\n",
      "not 1\n",
      "of 1\n",
      "on 2\n",
      "poverty? 1\n",
      "promise 1\n",
      "small 1\n",
      "the 2\n",
      "to 1\n",
      "wang, 1\n",
      "xia 1\n"
     ]
    }
   ],
   "source": [
    "def words_tweeted(inputFilename, outputFilename):\n",
    "    wordDict = {}\n",
    "    with open(inputFilename) as f:\n",
    "        for line in f:\n",
    "            for word in line.split( ):\n",
    "                if word not in wordDict.keys():\n",
    "                    wordDict[word] = 1\n",
    "                else:\n",
    "                    wordDict[word] = wordDict[word] + 1\n",
    "    f = open(outputFilename,'w')\n",
    "    for key in sorted(wordDict.keys()):\n",
    "        print key + ' ' + str(wordDict[key])\n",
    "        f.write(key + ' ' + str(wordDict[key]) + '\\n')\n",
    "    f.close()\n",
    "inputFilename = '/Users/PatrickZheng/cc-example/tweet_input/tweets.txt'\n",
    "outputFilename = '/Users/PatrickZheng/cc-example/tweet_output/PatrickOutput.txt'\n",
    "words_tweeted(inputFilename, outputFilename)"
   ]
  },
  {
   "cell_type": "code",
   "execution_count": 58,
   "metadata": {
    "collapsed": false
   },
   "outputs": [
    {
     "name": "stdout",
     "output_type": "stream",
     "text": [
      "11.0\n",
      "12.5\n",
      "14.0\n"
     ]
    }
   ],
   "source": [
    "def median_unique(inputFilename, outputFilename):\n",
    "    countDict = {}\n",
    "    outputFile = open(outputFilename,'w')\n",
    "    with open(inputFilename) as inputFile:\n",
    "        for line in inputFile:\n",
    "            tweetWordCount = len(line.split( ))\n",
    "            if tweetWordCount not in countDict.keys():\n",
    "                countDict[tweetWordCount] = 1\n",
    "            else:\n",
    "                countDict[tweetWordCount] = countDict[tweetWordCount] + 1  \n",
    "            medianPosition = float(sum(countDict.values()))/2\n",
    "            medianValue1 = 0\n",
    "            medianValue2 = 0\n",
    "            for key in sorted(countDict.keys()):\n",
    "                medianPosition = medianPosition - countDict[key];\n",
    "                if medianPosition == 0: \n",
    "                    medianValue1 = key\n",
    "                elif medianPosition < 0:\n",
    "                    medianValue2 = key\n",
    "                    if medianValue1 == 0:\n",
    "                        medianValue1 = key\n",
    "                    break\n",
    "            print float(medianValue1 + medianValue2) / 2\n",
    "            outputFile.write(str(float(medianValue1 + medianValue2) / 2))\n",
    "    outputFile.close()\n",
    "inputFilename = '/Users/PatrickZheng/cc-example/tweet_input/tweets.txt'\n",
    "outputFilename = '/Users/PatrickZheng/cc-example/tweet_output/PatrickOutput2.txt'\n",
    "median_unique(inputFilename, outputFilename)"
   ]
  },
  {
   "cell_type": "code",
   "execution_count": null,
   "metadata": {
    "collapsed": true
   },
   "outputs": [],
   "source": []
  }
 ],
 "metadata": {
  "kernelspec": {
   "display_name": "Python 2",
   "language": "python",
   "name": "python2"
  },
  "language_info": {
   "codemirror_mode": {
    "name": "ipython",
    "version": 2
   },
   "file_extension": ".py",
   "mimetype": "text/x-python",
   "name": "python",
   "nbconvert_exporter": "python",
   "pygments_lexer": "ipython2",
   "version": "2.7.6"
  }
 },
 "nbformat": 4,
 "nbformat_minor": 0
}
