{
 "cells": [
  {
   "cell_type": "code",
   "execution_count": 26,
   "metadata": {
    "collapsed": false
   },
   "outputs": [],
   "source": [
    "def words_tweeted(inputFilename, outputFilename):\n",
    "    wordDict = {}\n",
    "    with open(inputFilename) as f:\n",
    "        for line in f:\n",
    "            for word in line.split( ):\n",
    "                if word not in wordDict.keys():\n",
    "                    wordDict[word] = 1\n",
    "                else:\n",
    "                    wordDict[word] = wordDict[word] + 1\n",
    "    f = open(outputFilename,'w')\n",
    "    for key in sorted(wordDict.keys()):\n",
    "        #print key + ' ' + str(wordDict[key])\n",
    "        f.write(key + ' ' + str(wordDict[key]) + '\\n')\n",
    "    f.close()\n",
    "inputFilename = sys.argv[0]\n",
    "outputFilename = sys.argv[1]\n",
    "words_tweeted(inputFilename, outputFilename)"
   ]
  },
  {
   "cell_type": "code",
   "execution_count": 54,
   "metadata": {
    "collapsed": false
   },
   "outputs": [
    {
     "name": "stdout",
     "output_type": "stream",
     "text": [
      "11.0\n",
      "12.5\n",
      "14.0\n"
     ]
    }
   ],
   "source": [
    "def median_unique(inputFilename, outputFilename):\n",
    "    countDict = {}\n",
    "    outputFile = open(outputFilename,'w')\n",
    "    with open(inputFilename) as inputFile:\n",
    "        for line in inputFile:\n",
    "            tweetWordCount = len(line.split( ))\n",
    "            if tweetWordCount not in countDict.keys():\n",
    "                countDict[tweetWordCount] = 1\n",
    "            else:\n",
    "                countDict[tweetWordCount] = countDict[tweetWordCount] + 1  \n",
    "            medianPosition = float(sum(countDict.values()))/2\n",
    "            medianValue1 = 0\n",
    "            medianValue2 = 0\n",
    "            for key in sorted(countDict.keys()):\n",
    "                medianPosition = medianPosition - countDict[key];\n",
    "                if medianPosition == 0: \n",
    "                    medianValue1 = key\n",
    "                elif medianPosition < 0:\n",
    "                    medianValue2 = key\n",
    "                    if medianValue1 == 0:\n",
    "                        medianValue1 = key\n",
    "                    break\n",
    "            print float(medianValue1 + medianValue2) / 2\n",
    "            outputFile.write(str(float(medianValue1 + medianValue2) / 2))\n",
    "    outputFile.close()\n",
    "inputFilename = sys.argv[0]\n",
    "outputFilename = sys.argv[1]\n",
    "median_unique(inputFilename, outputFilename)"
   ]
  },
  {
   "cell_type": "code",
   "execution_count": null,
   "metadata": {
    "collapsed": true
   },
   "outputs": [],
   "source": []
  }
 ],
 "metadata": {
  "kernelspec": {
   "display_name": "Python 2",
   "language": "python",
   "name": "python2"
  },
  "language_info": {
   "codemirror_mode": {
    "name": "ipython",
    "version": 2
   },
   "file_extension": ".py",
   "mimetype": "text/x-python",
   "name": "python",
   "nbconvert_exporter": "python",
   "pygments_lexer": "ipython2",
   "version": "2.7.6"
  }
 },
 "nbformat": 4,
 "nbformat_minor": 0
}
